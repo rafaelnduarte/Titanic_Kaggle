{
  "nbformat": 4,
  "nbformat_minor": 0,
  "metadata": {
    "kernelspec": {
      "display_name": "Python 3",
      "language": "python",
      "name": "python3"
    },
    "language_info": {
      "codemirror_mode": {
        "name": "ipython",
        "version": 3
      },
      "file_extension": ".py",
      "mimetype": "text/x-python",
      "name": "python",
      "nbconvert_exporter": "python",
      "pygments_lexer": "ipython3",
      "version": "3.7.3"
    },
    "colab": {
      "name": "Titanic - Logistic Regression - Decision Tree.ipynb",
      "provenance": [],
      "collapsed_sections": [],
      "include_colab_link": true
    }
  },
  "cells": [
    {
      "cell_type": "markdown",
      "metadata": {
        "id": "view-in-github",
        "colab_type": "text"
      },
      "source": [
        "<a href=\"https://colab.research.google.com/github/rafaelnduarte/Titanic_Kaggle/blob/master/Titanic_Logistic_Regression_Decision_Tree.ipynb\" target=\"_parent\"><img src=\"https://colab.research.google.com/assets/colab-badge.svg\" alt=\"Open In Colab\"/></a>"
      ]
    },
    {
      "cell_type": "markdown",
      "metadata": {
        "id": "tMcHv8Vh1HdN",
        "colab_type": "text"
      },
      "source": [
        "# Titanic: Machine Learning from Disaster\n",
        "\n",
        "\n",
        "---\n",
        "\n",
        "This is one of the most famous [Kaggle](http://kaggle.com) challenges out there. \n",
        "\n",
        "As you know, the sinking of the *most modern ship in the world* at the time was quite a story. Despite the technology available, after hitting an iceberg on April 15th, 1912, it sank, **killing a total of 1502 people out of its 2224 passengers.**\n",
        "\n",
        "<center><img src=\"https://github.com/rafaelnduarte/Titanic_Kaggle/blob/master/data_science-master/img/titanic.jpeg?raw=true\"></center>\n",
        "\n",
        "The lack of lifeboats for crew and passengers as well as some irresponsible actions taken by the crew contributed to the disaster. \n",
        "\n",
        "The survivors were obviously lucky, but were there any passengers that were \"luckier\" than others? Did women and children have a better chance of surviving? Did Jack have fewer chances of surviving than Rose, given the fact he was a 3rd class passenger?\n",
        "\n",
        "With the **real** data available, we can do an exploratory analysis, test hypotheses, and build a predictive model.\n",
        "\n",
        "> **In a nutshell, the goal of this challenge is to use the available data to measure the chances of surviving for every passenger on the Titanic.** \n",
        "\n",
        "## About this notebook\n",
        "\n",
        "This notebook is inspired by the one created by the brazilian Data Scientist Carlos Melo, and published in his blog [sigmoidal.ai](http://sigmoidal.ai):\n",
        "\n",
        "\n",
        "## Checklist\n",
        "\n",
        "1. Defining the problem\n",
        "2. Obtaining the data\n",
        "3. Exploring the data\n",
        "4. Preparing the data\n",
        "5. Building the model\n",
        "6. Evaluation"
      ]
    },
    {
      "cell_type": "markdown",
      "metadata": {
        "id": "gxtQRz9a1HdQ",
        "colab_type": "text"
      },
      "source": [
        "## 1. Defining the problem.\n",
        "\n",
        "Building the Titanic took about 2 years and cost 7.5 million dollars at the time. It had a crew of 892 people and capacity to house up to 2435 passengers, divided into three classes.\n",
        "\n",
        "It was intended to be the safest and most luxurious ship of the time. It went to sea in 1911, having a reputation of being unsinkable.\n",
        "\n",
        "As stated before, many factors contributed to the disaster, including the climate, negligence of the crew and excessive confidence. Regardless, its sinking killed 1502 out of a total of 2224 passengers.\n",
        "\n",
        "Despite being lucky, some passengers were more prone to surviving than others, like women, children, and first-class passengers. Therefore, we can notice patterns to be extracted from the raw data.\n",
        "\n",
        "### Objective\n",
        "\n",
        "The goal is to **analyze which variables had a bigger influence on the probability of surviving** (that is, what kind of person was more likely to make it out alive).\n",
        "\n",
        "After analyzing the data, we need to build **a model to predict the chances of surviving** of a random passenger entered as *input*.\n",
        "\n",
        "\n",
        "### Performance Metrics\n",
        "\n",
        "The *score* is calculated according to the number of correct predictions achieved by the model. That is, only the **accuracy** of the model is considered.\n"
      ]
    },
    {
      "cell_type": "markdown",
      "metadata": {
        "id": "lT41UUOT1HdS",
        "colab_type": "text"
      },
      "source": [
        "## 2. Obtaining the Data\n",
        "\n",
        "[The data is available on Kaggle.](https://www.kaggle.com/c/titanic/data) It was divided into two sets:\n",
        "\n",
        "* Training Dataset (```train.csv```)\n",
        "    * Must be used to build the Machine Learning model. In this set, it is known whether the passenger survived or not. \n",
        "    * There are many features such as passenger gender, age and class.\n",
        "* Test Dataset (```test.csv```)\n",
        "    * Must be used as the data that has never been seen by the model. In this set, it isn't known whether the passenger survived or not.\n",
        "    \n",
        "Kaggle also made a submission model available\n",
        "(```gender_submission```).\n",
        "\n",
        "To download the data, it's necessary to be logged into Kaggle. To make it easier, all the data was made available with this notebook. (folder ```./data/...```"
      ]
    },
    {
      "cell_type": "code",
      "metadata": {
        "id": "Er6PSgSL1HdU",
        "colab_type": "code",
        "colab": {}
      },
      "source": [
        "# Importing the necessary packages\n",
        "import pandas as pd\n",
        "import numpy as np\n",
        "import matplotlib.pyplot as plt\n",
        "import seaborn as sns\n",
        "sns.set()\n",
        "\n",
        "# Allowing all the columns to be visualized\n",
        "pd.options.display.max_columns = None\n",
        "\n",
        "# Rendering all graphics straight out of the notebook\n",
        "%matplotlib inline"
      ],
      "execution_count": 0,
      "outputs": []
    },
    {
      "cell_type": "code",
      "metadata": {
        "id": "4zCqv5Vp1Hdc",
        "colab_type": "code",
        "colab": {}
      },
      "source": [
        "train = pd.read_csv('https://raw.githubusercontent.com/rafaelnduarte/Titanic_Kaggle/master/data_science-master/data/train.csv')\n",
        "test = pd.read_csv('https://raw.githubusercontent.com/rafaelnduarte/Titanic_Kaggle/master/data_science-master/data/test.csv')"
      ],
      "execution_count": 0,
      "outputs": []
    },
    {
      "cell_type": "markdown",
      "metadata": {
        "id": "t_GfkHBO1Hdj",
        "colab_type": "text"
      },
      "source": [
        "**Q1.** How many variables (columns) and how many entries (lines) are there in the file?"
      ]
    },
    {
      "cell_type": "code",
      "metadata": {
        "id": "wrhMu3qW1Hdl",
        "colab_type": "code",
        "outputId": "e2fd5fd6-5661-491f-cd4f-31552c53eab9",
        "colab": {
          "base_uri": "https://localhost:8080/",
          "height": 52
        }
      },
      "source": [
        "# Analyzing the shape of the DataFrame\n",
        "print(\"Variables:\\t{}\\nEntries:\\t{}\".format(train.shape[1], train.shape[0]))"
      ],
      "execution_count": 0,
      "outputs": [
        {
          "output_type": "stream",
          "text": [
            "Variables:\t12\n",
            "Entries:\t891\n"
          ],
          "name": "stdout"
        }
      ]
    },
    {
      "cell_type": "markdown",
      "metadata": {
        "id": "byX2vppK1Hdt",
        "colab_type": "text"
      },
      "source": [
        "## 3. Exploring the Data\n",
        "\n",
        "In an initial analysis, each variable must be studied. It's important to check its name, type, percentage of missing values, presence of outliers and the type of distribution.\n",
        "\n",
        "Since it's a case of *Supervised Learning*, the variable ```Survived``` is defined as being our *target* variable."
      ]
    },
    {
      "cell_type": "markdown",
      "metadata": {
        "id": "QswKGuWY1Hdv",
        "colab_type": "text"
      },
      "source": [
        "### Data Dictionary\n",
        "\n",
        "* **PassengerId:** Identification number of the passenger\n",
        "* **Survived:** Informs whether the passenger survived or not\n",
        "    * 0 = No\n",
        "    * 1 = Yes\n",
        "* **Pclass:** Class of the ticket\n",
        "    * 1 = 1st Class\n",
        "    * 2 = 2nd Class\n",
        "    * 3 = 3rd Class\n",
        "* **Name:** Passenger's name\n",
        "* **Sex:** Passenger's sex\n",
        "* **Age:** Passenger's age\n",
        "* **SibSp:** Quantity of spouses or siblings aboard\n",
        "* **Parch:** Quantity of parents or children aboard\n",
        "* **Ticket:** Ticket number\n",
        "* **Fare:** Fare price\n",
        "* **Cabin:** Passenger's cabin number\n",
        "* **Embarked:** Port where the passenger embarked\n",
        "    * C = Cherbourg\n",
        "    * Q = Queenstown\n",
        "    * S = Southampton"
      ]
    },
    {
      "cell_type": "markdown",
      "metadata": {
        "id": "AdCTDhHa1Hdx",
        "colab_type": "text"
      },
      "source": [
        "**Q1. What is the type of each variable?**\n",
        "\n",
        "* Numerical Variables\n",
        "    * Discrete\n",
        "        * Pclass\n",
        "        * SibSp\n",
        "        * Parch\n",
        "    * Continuous\n",
        "        * Age\n",
        "        * Fare\n",
        "    * Target\n",
        "        * Survived\n",
        "    * Primary Key\n",
        "        * PassengerId\n",
        "* Categorical Variables\n",
        "    * Name\n",
        "    * Sex\n",
        "    * Ticket\n",
        "    * Cabin\n",
        "    * Embarked"
      ]
    },
    {
      "cell_type": "code",
      "metadata": {
        "id": "WII-24aF1Hdy",
        "colab_type": "code",
        "outputId": "bcc722c3-c986-48f9-89f1-9bfbd9d0c926",
        "colab": {
          "base_uri": "https://localhost:8080/",
          "height": 427
        }
      },
      "source": [
        "# Identifying each variable type\n",
        "display(train.dtypes)\n",
        "\n",
        "# Checking the 5 first entries in the Training Set\n",
        "display(train.head())"
      ],
      "execution_count": 0,
      "outputs": [
        {
          "output_type": "display_data",
          "data": {
            "text/plain": [
              "PassengerId      int64\n",
              "Survived         int64\n",
              "Pclass           int64\n",
              "Name            object\n",
              "Sex             object\n",
              "Age            float64\n",
              "SibSp            int64\n",
              "Parch            int64\n",
              "Ticket          object\n",
              "Fare           float64\n",
              "Cabin           object\n",
              "Embarked        object\n",
              "dtype: object"
            ]
          },
          "metadata": {
            "tags": []
          }
        },
        {
          "output_type": "display_data",
          "data": {
            "text/html": [
              "<div>\n",
              "<style scoped>\n",
              "    .dataframe tbody tr th:only-of-type {\n",
              "        vertical-align: middle;\n",
              "    }\n",
              "\n",
              "    .dataframe tbody tr th {\n",
              "        vertical-align: top;\n",
              "    }\n",
              "\n",
              "    .dataframe thead th {\n",
              "        text-align: right;\n",
              "    }\n",
              "</style>\n",
              "<table border=\"1\" class=\"dataframe\">\n",
              "  <thead>\n",
              "    <tr style=\"text-align: right;\">\n",
              "      <th></th>\n",
              "      <th>PassengerId</th>\n",
              "      <th>Survived</th>\n",
              "      <th>Pclass</th>\n",
              "      <th>Name</th>\n",
              "      <th>Sex</th>\n",
              "      <th>Age</th>\n",
              "      <th>SibSp</th>\n",
              "      <th>Parch</th>\n",
              "      <th>Ticket</th>\n",
              "      <th>Fare</th>\n",
              "      <th>Cabin</th>\n",
              "      <th>Embarked</th>\n",
              "    </tr>\n",
              "  </thead>\n",
              "  <tbody>\n",
              "    <tr>\n",
              "      <th>0</th>\n",
              "      <td>1</td>\n",
              "      <td>0</td>\n",
              "      <td>3</td>\n",
              "      <td>Braund, Mr. Owen Harris</td>\n",
              "      <td>male</td>\n",
              "      <td>22.0</td>\n",
              "      <td>1</td>\n",
              "      <td>0</td>\n",
              "      <td>A/5 21171</td>\n",
              "      <td>7.2500</td>\n",
              "      <td>NaN</td>\n",
              "      <td>S</td>\n",
              "    </tr>\n",
              "    <tr>\n",
              "      <th>1</th>\n",
              "      <td>2</td>\n",
              "      <td>1</td>\n",
              "      <td>1</td>\n",
              "      <td>Cumings, Mrs. John Bradley (Florence Briggs Th...</td>\n",
              "      <td>female</td>\n",
              "      <td>38.0</td>\n",
              "      <td>1</td>\n",
              "      <td>0</td>\n",
              "      <td>PC 17599</td>\n",
              "      <td>71.2833</td>\n",
              "      <td>C85</td>\n",
              "      <td>C</td>\n",
              "    </tr>\n",
              "    <tr>\n",
              "      <th>2</th>\n",
              "      <td>3</td>\n",
              "      <td>1</td>\n",
              "      <td>3</td>\n",
              "      <td>Heikkinen, Miss. Laina</td>\n",
              "      <td>female</td>\n",
              "      <td>26.0</td>\n",
              "      <td>0</td>\n",
              "      <td>0</td>\n",
              "      <td>STON/O2. 3101282</td>\n",
              "      <td>7.9250</td>\n",
              "      <td>NaN</td>\n",
              "      <td>S</td>\n",
              "    </tr>\n",
              "    <tr>\n",
              "      <th>3</th>\n",
              "      <td>4</td>\n",
              "      <td>1</td>\n",
              "      <td>1</td>\n",
              "      <td>Futrelle, Mrs. Jacques Heath (Lily May Peel)</td>\n",
              "      <td>female</td>\n",
              "      <td>35.0</td>\n",
              "      <td>1</td>\n",
              "      <td>0</td>\n",
              "      <td>113803</td>\n",
              "      <td>53.1000</td>\n",
              "      <td>C123</td>\n",
              "      <td>S</td>\n",
              "    </tr>\n",
              "    <tr>\n",
              "      <th>4</th>\n",
              "      <td>5</td>\n",
              "      <td>0</td>\n",
              "      <td>3</td>\n",
              "      <td>Allen, Mr. William Henry</td>\n",
              "      <td>male</td>\n",
              "      <td>35.0</td>\n",
              "      <td>0</td>\n",
              "      <td>0</td>\n",
              "      <td>373450</td>\n",
              "      <td>8.0500</td>\n",
              "      <td>NaN</td>\n",
              "      <td>S</td>\n",
              "    </tr>\n",
              "  </tbody>\n",
              "</table>\n",
              "</div>"
            ],
            "text/plain": [
              "   PassengerId  Survived  Pclass  \\\n",
              "0            1         0       3   \n",
              "1            2         1       1   \n",
              "2            3         1       3   \n",
              "3            4         1       1   \n",
              "4            5         0       3   \n",
              "\n",
              "                                                Name     Sex   Age  SibSp  \\\n",
              "0                            Braund, Mr. Owen Harris    male  22.0      1   \n",
              "1  Cumings, Mrs. John Bradley (Florence Briggs Th...  female  38.0      1   \n",
              "2                             Heikkinen, Miss. Laina  female  26.0      0   \n",
              "3       Futrelle, Mrs. Jacques Heath (Lily May Peel)  female  35.0      1   \n",
              "4                           Allen, Mr. William Henry    male  35.0      0   \n",
              "\n",
              "   Parch            Ticket     Fare Cabin Embarked  \n",
              "0      0         A/5 21171   7.2500   NaN        S  \n",
              "1      0          PC 17599  71.2833   C85        C  \n",
              "2      0  STON/O2. 3101282   7.9250   NaN        S  \n",
              "3      0            113803  53.1000  C123        S  \n",
              "4      0            373450   8.0500   NaN        S  "
            ]
          },
          "metadata": {
            "tags": []
          }
        }
      ]
    },
    {
      "cell_type": "markdown",
      "metadata": {
        "id": "Gn26HbFD1Hd5",
        "colab_type": "text"
      },
      "source": [
        "**Q2. What's the percentage of missing values?**\n",
        "\n",
        "The **Cabin** column is the one with the most missing values, with over 77%. Next, is the column **Age** that has no values for almost 20% of the passengers. Finally, the column that informs the Port where the passenger embarked (**Embarked**) shows no values for 2% of the passengers. "
      ]
    },
    {
      "cell_type": "code",
      "metadata": {
        "id": "NhY5_vNQ1Hd6",
        "colab_type": "code",
        "outputId": "c0af3a39-9178-4211-ca73-6cd4882e3351",
        "colab": {
          "base_uri": "https://localhost:8080/",
          "height": 243
        }
      },
      "source": [
        "# Checking the percentage of missing values\n",
        "(train.isnull().sum() / train.shape[0]).sort_values(ascending=False)"
      ],
      "execution_count": 0,
      "outputs": [
        {
          "output_type": "execute_result",
          "data": {
            "text/plain": [
              "Cabin          0.771044\n",
              "Age            0.198653\n",
              "Embarked       0.002245\n",
              "Fare           0.000000\n",
              "Ticket         0.000000\n",
              "Parch          0.000000\n",
              "SibSp          0.000000\n",
              "Sex            0.000000\n",
              "Name           0.000000\n",
              "Pclass         0.000000\n",
              "Survived       0.000000\n",
              "PassengerId    0.000000\n",
              "dtype: float64"
            ]
          },
          "metadata": {
            "tags": []
          },
          "execution_count": 6
        }
      ]
    },
    {
      "cell_type": "markdown",
      "metadata": {
        "id": "CyXiRonc1Hd9",
        "colab_type": "text"
      },
      "source": [
        "**Q3. What is the statistical distribution of the data?**"
      ]
    },
    {
      "cell_type": "code",
      "metadata": {
        "id": "GnLR53P71Hd-",
        "colab_type": "code",
        "outputId": "a21c6718-4aa6-42ad-b293-2526e49ddf58",
        "colab": {
          "base_uri": "https://localhost:8080/",
          "height": 294
        }
      },
      "source": [
        "train.describe()"
      ],
      "execution_count": 0,
      "outputs": [
        {
          "output_type": "execute_result",
          "data": {
            "text/html": [
              "<div>\n",
              "<style scoped>\n",
              "    .dataframe tbody tr th:only-of-type {\n",
              "        vertical-align: middle;\n",
              "    }\n",
              "\n",
              "    .dataframe tbody tr th {\n",
              "        vertical-align: top;\n",
              "    }\n",
              "\n",
              "    .dataframe thead th {\n",
              "        text-align: right;\n",
              "    }\n",
              "</style>\n",
              "<table border=\"1\" class=\"dataframe\">\n",
              "  <thead>\n",
              "    <tr style=\"text-align: right;\">\n",
              "      <th></th>\n",
              "      <th>PassengerId</th>\n",
              "      <th>Survived</th>\n",
              "      <th>Pclass</th>\n",
              "      <th>Age</th>\n",
              "      <th>SibSp</th>\n",
              "      <th>Parch</th>\n",
              "      <th>Fare</th>\n",
              "    </tr>\n",
              "  </thead>\n",
              "  <tbody>\n",
              "    <tr>\n",
              "      <th>count</th>\n",
              "      <td>891.000000</td>\n",
              "      <td>891.000000</td>\n",
              "      <td>891.000000</td>\n",
              "      <td>714.000000</td>\n",
              "      <td>891.000000</td>\n",
              "      <td>891.000000</td>\n",
              "      <td>891.000000</td>\n",
              "    </tr>\n",
              "    <tr>\n",
              "      <th>mean</th>\n",
              "      <td>446.000000</td>\n",
              "      <td>0.383838</td>\n",
              "      <td>2.308642</td>\n",
              "      <td>29.699118</td>\n",
              "      <td>0.523008</td>\n",
              "      <td>0.381594</td>\n",
              "      <td>32.204208</td>\n",
              "    </tr>\n",
              "    <tr>\n",
              "      <th>std</th>\n",
              "      <td>257.353842</td>\n",
              "      <td>0.486592</td>\n",
              "      <td>0.836071</td>\n",
              "      <td>14.526497</td>\n",
              "      <td>1.102743</td>\n",
              "      <td>0.806057</td>\n",
              "      <td>49.693429</td>\n",
              "    </tr>\n",
              "    <tr>\n",
              "      <th>min</th>\n",
              "      <td>1.000000</td>\n",
              "      <td>0.000000</td>\n",
              "      <td>1.000000</td>\n",
              "      <td>0.420000</td>\n",
              "      <td>0.000000</td>\n",
              "      <td>0.000000</td>\n",
              "      <td>0.000000</td>\n",
              "    </tr>\n",
              "    <tr>\n",
              "      <th>25%</th>\n",
              "      <td>223.500000</td>\n",
              "      <td>0.000000</td>\n",
              "      <td>2.000000</td>\n",
              "      <td>20.125000</td>\n",
              "      <td>0.000000</td>\n",
              "      <td>0.000000</td>\n",
              "      <td>7.910400</td>\n",
              "    </tr>\n",
              "    <tr>\n",
              "      <th>50%</th>\n",
              "      <td>446.000000</td>\n",
              "      <td>0.000000</td>\n",
              "      <td>3.000000</td>\n",
              "      <td>28.000000</td>\n",
              "      <td>0.000000</td>\n",
              "      <td>0.000000</td>\n",
              "      <td>14.454200</td>\n",
              "    </tr>\n",
              "    <tr>\n",
              "      <th>75%</th>\n",
              "      <td>668.500000</td>\n",
              "      <td>1.000000</td>\n",
              "      <td>3.000000</td>\n",
              "      <td>38.000000</td>\n",
              "      <td>1.000000</td>\n",
              "      <td>0.000000</td>\n",
              "      <td>31.000000</td>\n",
              "    </tr>\n",
              "    <tr>\n",
              "      <th>max</th>\n",
              "      <td>891.000000</td>\n",
              "      <td>1.000000</td>\n",
              "      <td>3.000000</td>\n",
              "      <td>80.000000</td>\n",
              "      <td>8.000000</td>\n",
              "      <td>6.000000</td>\n",
              "      <td>512.329200</td>\n",
              "    </tr>\n",
              "  </tbody>\n",
              "</table>\n",
              "</div>"
            ],
            "text/plain": [
              "       PassengerId    Survived      Pclass         Age       SibSp  \\\n",
              "count   891.000000  891.000000  891.000000  714.000000  891.000000   \n",
              "mean    446.000000    0.383838    2.308642   29.699118    0.523008   \n",
              "std     257.353842    0.486592    0.836071   14.526497    1.102743   \n",
              "min       1.000000    0.000000    1.000000    0.420000    0.000000   \n",
              "25%     223.500000    0.000000    2.000000   20.125000    0.000000   \n",
              "50%     446.000000    0.000000    3.000000   28.000000    0.000000   \n",
              "75%     668.500000    1.000000    3.000000   38.000000    1.000000   \n",
              "max     891.000000    1.000000    3.000000   80.000000    8.000000   \n",
              "\n",
              "            Parch        Fare  \n",
              "count  891.000000  891.000000  \n",
              "mean     0.381594   32.204208  \n",
              "std      0.806057   49.693429  \n",
              "min      0.000000    0.000000  \n",
              "25%      0.000000    7.910400  \n",
              "50%      0.000000   14.454200  \n",
              "75%      0.000000   31.000000  \n",
              "max      6.000000  512.329200  "
            ]
          },
          "metadata": {
            "tags": []
          },
          "execution_count": 7
        }
      ]
    },
    {
      "cell_type": "code",
      "metadata": {
        "id": "9eFz2pcm1HeE",
        "colab_type": "code",
        "outputId": "5f7eee2e-9918-4d9e-d7eb-4ecfae4e4540",
        "colab": {
          "base_uri": "https://localhost:8080/",
          "height": 610
        }
      },
      "source": [
        "# Checking histograms of the numerical variables\n",
        "train.hist(figsize=(15,10));\n",
        "sns.set()"
      ],
      "execution_count": 0,
      "outputs": [
        {
          "output_type": "display_data",
          "data": {
            "image/png": "[encoded data removed]",
            "text/plain": [
              "<Figure size 1080x720 with 9 Axes>"
            ]
          },
          "metadata": {
            "tags": []
          }
        }
      ]
    },
    {
      "cell_type": "markdown",
      "metadata": {
        "id": "PkK2-yX71HeP",
        "colab_type": "text"
      },
      "source": [
        "**Q4. Which groups of people had better chances of surviving?**"
      ]
    },
    {
      "cell_type": "code",
      "metadata": {
        "id": "c1_tLFdb1HeQ",
        "colab_type": "code",
        "outputId": "654d5978-3cb0-46e0-ce9a-2367bf2004fd",
        "colab": {
          "base_uri": "https://localhost:8080/",
          "height": 141
        }
      },
      "source": [
        "# Analyzing the probability of survival by Sex\n",
        "train[['Sex', 'Survived']].groupby(['Sex']).mean()"
      ],
      "execution_count": 0,
      "outputs": [
        {
          "output_type": "execute_result",
          "data": {
            "text/html": [
              "<div>\n",
              "<style scoped>\n",
              "    .dataframe tbody tr th:only-of-type {\n",
              "        vertical-align: middle;\n",
              "    }\n",
              "\n",
              "    .dataframe tbody tr th {\n",
              "        vertical-align: top;\n",
              "    }\n",
              "\n",
              "    .dataframe thead th {\n",
              "        text-align: right;\n",
              "    }\n",
              "</style>\n",
              "<table border=\"1\" class=\"dataframe\">\n",
              "  <thead>\n",
              "    <tr style=\"text-align: right;\">\n",
              "      <th></th>\n",
              "      <th>Survived</th>\n",
              "    </tr>\n",
              "    <tr>\n",
              "      <th>Sex</th>\n",
              "      <th></th>\n",
              "    </tr>\n",
              "  </thead>\n",
              "  <tbody>\n",
              "    <tr>\n",
              "      <th>female</th>\n",
              "      <td>0.742038</td>\n",
              "    </tr>\n",
              "    <tr>\n",
              "      <th>male</th>\n",
              "      <td>0.188908</td>\n",
              "    </tr>\n",
              "  </tbody>\n",
              "</table>\n",
              "</div>"
            ],
            "text/plain": [
              "        Survived\n",
              "Sex             \n",
              "female  0.742038\n",
              "male    0.188908"
            ]
          },
          "metadata": {
            "tags": []
          },
          "execution_count": 9
        }
      ]
    },
    {
      "cell_type": "code",
      "metadata": {
        "id": "0fHmjJYS1HeW",
        "colab_type": "code",
        "outputId": "b86c7e8a-e498-4da9-dc47-b5be7e4be238",
        "colab": {
          "base_uri": "https://localhost:8080/",
          "height": 291
        }
      },
      "source": [
        "# Plotting graphs for Survived vs. Sex, Pclass and Embarked\n",
        "fig, (axis1, axis2, axis3) = plt.subplots(1,3, figsize=(12,4))\n",
        "\n",
        "sns.barplot(x='Sex', y='Survived', data=train, ax=axis1)\n",
        "sns.barplot(x='Pclass', y='Survived', data=train, ax=axis2)\n",
        "sns.barplot(x='Embarked', y='Survived', data=train, ax=axis3);"
      ],
      "execution_count": 0,
      "outputs": [
        {
          "output_type": "display_data",
          "data": {
            "image/png": "[encoded data removed]",
            "text/plain": [
              "<Figure size 864x288 with 3 Axes>"
            ]
          },
          "metadata": {
            "tags": []
          }
        }
      ]
    },
    {
      "cell_type": "code",
      "metadata": {
        "id": "S6lUxJyj1Heb",
        "colab_type": "code",
        "outputId": "21f654aa-72f1-441a-c6a7-8bfe92c906ee",
        "colab": {
          "base_uri": "https://localhost:8080/",
          "height": 215
        }
      },
      "source": [
        "# Checking the infleunce of Age on the probability of survival\n",
        "\n",
        "age_survived = sns.FacetGrid(train, col='Survived');\n",
        "age_survived.map(sns.distplot, 'Age');\n"
      ],
      "execution_count": 0,
      "outputs": [
        {
          "output_type": "display_data",
          "data": {
            "image/png": "[encoded data removed]",
            "text/plain": [
              "<Figure size 432x216 with 2 Axes>"
            ]
          },
          "metadata": {
            "tags": []
          }
        }
      ]
    },
    {
      "cell_type": "code",
      "metadata": {
        "scrolled": true,
        "id": "dRb0LCQj1Heg",
        "colab_type": "code",
        "outputId": "324791e9-10fa-4881-8f22-3bf4ccad9bec",
        "colab": {
          "base_uri": "https://localhost:8080/",
          "height": 783
        }
      },
      "source": [
        "# Plotting a scatter matrix\n",
        "columns=['Parch', 'SibSp', 'Age', 'Pclass']\n",
        "pd.plotting.scatter_matrix(train[columns], figsize=(18, 13));"
      ],
      "execution_count": 0,
      "outputs": [
        {
          "output_type": "display_data",
          "data": {
            "image/png": "[encoded data removed]",
            "text/plain": [
              "<Figure size 1296x936 with 16 Axes>"
            ]
          },
          "metadata": {
            "tags": []
          }
        }
      ]
    },
    {
      "cell_type": "code",
      "metadata": {
        "id": "o4RbyZDe1Hel",
        "colab_type": "code",
        "outputId": "336f4588-d8ee-416c-99e3-58e463aaa530",
        "colab": {
          "base_uri": "https://localhost:8080/",
          "height": 647
        }
      },
      "source": [
        "# Plotting a heatmap for all numerical variables\n",
        "\n",
        "f, ax = plt.subplots(figsize=(12, 9))\n",
        "sns.set(font_scale=1.25)\n",
        "hm = sns.heatmap(train.corr(), cbar=True, annot=True, square=True, fmt='.2f', annot_kws={'size': 10})\n",
        "plt.tight_layout()"
      ],
      "execution_count": 0,
      "outputs": [
        {
          "output_type": "display_data",
          "data": {
            "image/png": "[encoded data removed]",
            "text/plain": [
              "<Figure size 864x648 with 2 Axes>"
            ]
          },
          "metadata": {
            "tags": []
          }
        }
      ]
    },
    {
      "cell_type": "markdown",
      "metadata": {
        "id": "9kcARskA1Heq",
        "colab_type": "text"
      },
      "source": [
        "Remember that the method ```df.describe()``` can also be used to check descriptive statistics in columns that aren't numbers. All we have to do is use the argument ```include=['O']```. \n",
        "\n",
        "**ATTENTION! Mind it's the letter 'O', and not the number \"0\"!**"
      ]
    },
    {
      "cell_type": "code",
      "metadata": {
        "id": "sBKCMRsT1Hes",
        "colab_type": "code",
        "outputId": "1bc76b6f-acc5-4702-f80c-d19c536a8813",
        "colab": {
          "base_uri": "https://localhost:8080/",
          "height": 171
        }
      },
      "source": [
        "train.describe(include=['O'])"
      ],
      "execution_count": 0,
      "outputs": [
        {
          "output_type": "execute_result",
          "data": {
            "text/html": [
              "<div>\n",
              "<style scoped>\n",
              "    .dataframe tbody tr th:only-of-type {\n",
              "        vertical-align: middle;\n",
              "    }\n",
              "\n",
              "    .dataframe tbody tr th {\n",
              "        vertical-align: top;\n",
              "    }\n",
              "\n",
              "    .dataframe thead th {\n",
              "        text-align: right;\n",
              "    }\n",
              "</style>\n",
              "<table border=\"1\" class=\"dataframe\">\n",
              "  <thead>\n",
              "    <tr style=\"text-align: right;\">\n",
              "      <th></th>\n",
              "      <th>Name</th>\n",
              "      <th>Sex</th>\n",
              "      <th>Ticket</th>\n",
              "      <th>Cabin</th>\n",
              "      <th>Embarked</th>\n",
              "    </tr>\n",
              "  </thead>\n",
              "  <tbody>\n",
              "    <tr>\n",
              "      <th>count</th>\n",
              "      <td>891</td>\n",
              "      <td>891</td>\n",
              "      <td>891</td>\n",
              "      <td>204</td>\n",
              "      <td>889</td>\n",
              "    </tr>\n",
              "    <tr>\n",
              "      <th>unique</th>\n",
              "      <td>891</td>\n",
              "      <td>2</td>\n",
              "      <td>681</td>\n",
              "      <td>147</td>\n",
              "      <td>3</td>\n",
              "    </tr>\n",
              "    <tr>\n",
              "      <th>top</th>\n",
              "      <td>Mitkoff, Mr. Mito</td>\n",
              "      <td>male</td>\n",
              "      <td>1601</td>\n",
              "      <td>C23 C25 C27</td>\n",
              "      <td>S</td>\n",
              "    </tr>\n",
              "    <tr>\n",
              "      <th>freq</th>\n",
              "      <td>1</td>\n",
              "      <td>577</td>\n",
              "      <td>7</td>\n",
              "      <td>4</td>\n",
              "      <td>644</td>\n",
              "    </tr>\n",
              "  </tbody>\n",
              "</table>\n",
              "</div>"
            ],
            "text/plain": [
              "                     Name   Sex Ticket        Cabin Embarked\n",
              "count                 891   891    891          204      889\n",
              "unique                891     2    681          147        3\n",
              "top     Mitkoff, Mr. Mito  male   1601  C23 C25 C27        S\n",
              "freq                    1   577      7            4      644"
            ]
          },
          "metadata": {
            "tags": []
          },
          "execution_count": 24
        }
      ]
    },
    {
      "cell_type": "markdown",
      "metadata": {
        "id": "t717tHT51Hex",
        "colab_type": "text"
      },
      "source": [
        "Analyzing this data, we can see that:\n",
        "* The entries for ```Name``` are unique, one for each person;\n",
        "* There are no *missing values* for ```Name``` and ```Sex```;\n",
        "* There are only two sexes: Male and Female, Male being more frequent (577/891 = 65%);\n",
        "* The Port where more passengers embarked was S = Southampton."
      ]
    },
    {
      "cell_type": "markdown",
      "metadata": {
        "id": "-FOSRVhr1Hey",
        "colab_type": "text"
      },
      "source": [
        "## 4 Preparing the Data\n",
        "\n",
        "Until now, all we did was import the data to *DataFrame* structures, formulate hypotheses, start an exploratory analysis of the data and visualize graphs and correlations among the variables we found relevant.\n",
        "\n",
        "\n",
        "### Putting the train and test *datasets* together\n",
        "\n",
        "When preparing data for a *Machine Learning* model, it's a good idea to put the train and test *datasets* together, and separate them only at the end.\n",
        "\n",
        "We often work with *feature engineering*, creating *dummy* variables or encoding variables. Then, our model will be trained on this architecture, and the data from both sets will follow the same structure.\n",
        "\n",
        "That's why it's a lot easier to go through all the steps in only one *DataFrame* and only at the end, divide it into train and test again."
      ]
    },
    {
      "cell_type": "code",
      "metadata": {
        "scrolled": true,
        "id": "Qn-7W8gU1He0",
        "colab_type": "code",
        "outputId": "6b016cde-764e-4f32-d5e8-fe190daa98c4",
        "colab": {
          "base_uri": "https://localhost:8080/",
          "height": 69
        }
      },
      "source": [
        "# Saving the indexes of the datasets for later recovery\n",
        "train_idx = train.shape[0]\n",
        "test_idx = test.shape[0]\n",
        "\n",
        "# Saving PassengerId for Kaggle submission\n",
        "passengerId = test['PassengerId']\n",
        "\n",
        "# Extracting the column 'Survived' and excluding it from the train dataset\n",
        "target = train.Survived.copy()\n",
        "train.drop(['Survived'], axis=1, inplace=True)\n",
        "\n",
        "# Concatenating train and test into one DataFrame\n",
        "df_merged = pd.concat(objs=[train, test], axis=0).reset_index(drop=True)\n",
        "\n",
        "print(\"Variables:\\t{}\\nEntries:\\t{}\".format(df_merged.shape[1], df_merged.shape[0]))"
      ],
      "execution_count": 0,
      "outputs": [
        {
          "output_type": "stream",
          "text": [
            "df_merged.shape: (1309 x 11)\n",
            "Variables:\t11\n",
            "Entries:\t1309\n"
          ],
          "name": "stdout"
        }
      ]
    },
    {
      "cell_type": "markdown",
      "metadata": {
        "id": "8A7ypYla1He5",
        "colab_type": "text"
      },
      "source": [
        "### Selecting the *features*"
      ]
    },
    {
      "cell_type": "markdown",
      "metadata": {
        "id": "FFRXPLUL1He7",
        "colab_type": "text"
      },
      "source": [
        "We often come across useless and/or irrelevant data for our models.\n",
        "\n",
        "In this case, the variables ```['PassengerId', 'Name', 'Ticket', 'Cabin']``` will be discarded, since they **seem** not to be relevant to our model."
      ]
    },
    {
      "cell_type": "code",
      "metadata": {
        "id": "bPoqtG501He8",
        "colab_type": "code",
        "colab": {}
      },
      "source": [
        "df_merged.drop(['PassengerId', 'Name', 'Ticket', 'Cabin'], axis=1, inplace=True)"
      ],
      "execution_count": 0,
      "outputs": []
    },
    {
      "cell_type": "markdown",
      "metadata": {
        "id": "lb8K-MIn1HfD",
        "colab_type": "text"
      },
      "source": [
        "Therefore, the following variables will be treated and prepared to be used in our model: ```['Pclass', 'Sex', 'Age', 'SibSp', 'Parch', 'Fare', 'Embarked']```."
      ]
    },
    {
      "cell_type": "markdown",
      "metadata": {
        "id": "dPQd-oT71HfE",
        "colab_type": "text"
      },
      "source": [
        "### Missing Values"
      ]
    },
    {
      "cell_type": "markdown",
      "metadata": {
        "id": "-X2VLXp51HfG",
        "colab_type": "text"
      },
      "source": [
        "When it comes to *missing values*, there are two approaches we can try:\n",
        "* Filling them arbitrarily (mean, median, most frequent value); or\n",
        "* Deleting the whole line.\n",
        "\n",
        "More often than not, throwing away the information in a whole line just because of a missing field is not what we want. Whenever possible, it's better to fill it up, and that's what we are going to do."
      ]
    },
    {
      "cell_type": "code",
      "metadata": {
        "id": "OAzW7zvZ1HfK",
        "colab_type": "code",
        "outputId": "85a3e7ae-57b1-45bc-e65c-7728d003fe9f",
        "colab": {
          "base_uri": "https://localhost:8080/",
          "height": 156
        }
      },
      "source": [
        "# Completing or deleting missing values from train and test datasets\n",
        "df_merged.isnull().sum()"
      ],
      "execution_count": 0,
      "outputs": [
        {
          "output_type": "execute_result",
          "data": {
            "text/plain": [
              "Pclass        0\n",
              "Sex           0\n",
              "Age         263\n",
              "SibSp         0\n",
              "Parch         0\n",
              "Fare          1\n",
              "Embarked      2\n",
              "dtype: int64"
            ]
          },
          "metadata": {
            "tags": []
          },
          "execution_count": 20
        }
      ]
    },
    {
      "cell_type": "markdown",
      "metadata": {
        "id": "tHm5rodV1HfU",
        "colab_type": "text"
      },
      "source": [
        "For the variables ```['Age']```, and ```['Fare']```, I'll fill in with the median, and for the variable ``['Embarked']``, I'll fill in with the most frequent value."
      ]
    },
    {
      "cell_type": "code",
      "metadata": {
        "id": "pRCMNES01HfW",
        "colab_type": "code",
        "colab": {}
      },
      "source": [
        "# age\n",
        "age_median = df_merged['Age'].median()\n",
        "df_merged['Age'].fillna(age_median, inplace=True)\n",
        "\n",
        "# fare\n",
        "fare_median = df_merged['Fare'].median()\n",
        "df_merged['Fare'].fillna(fare_median, inplace=True)\n",
        "\n",
        "# embarked\n",
        "embarked_top = df_merged['Embarked'].value_counts()[0]\n",
        "df_merged['Embarked'].fillna(embarked_top, inplace=True)"
      ],
      "execution_count": 0,
      "outputs": []
    },
    {
      "cell_type": "markdown",
      "metadata": {
        "id": "HJPOCT2E1Hfb",
        "colab_type": "text"
      },
      "source": [
        "### Preparing the variables for the model\n",
        "\n",
        "The mathematical model demands us to work with numerical variables. That means we have to transform the categorical data entered into numbers.\n",
        "\n",
        "As you can see, I've converted the possible values for ```Sex``` to ```{'male': 0, 'female': 1}```. For```Embarked```, the concept of *dummy* variables was applied.\n",
        "\n",
        "*Dummy variables* take only 0 or 1 as values, creating a new column for every possible categorical variable. To make it easier to understand, take a look at the *Data Frame* after this treatment:"
      ]
    },
    {
      "cell_type": "code",
      "metadata": {
        "id": "UexeWWR-1Hfi",
        "colab_type": "code",
        "outputId": "c6d54e95-d003-48c1-b75b-f378980e0c56",
        "colab": {
          "base_uri": "https://localhost:8080/",
          "height": 202
        }
      },
      "source": [
        "# Converting 'Sex' into 0 or 1\n",
        "df_merged['Sex'] = df_merged['Sex'].map({'male': 0, 'female': 1})\n",
        "\n",
        "# Dummy variables for 'Embaked'\n",
        "embarked_dummies = pd.get_dummies(df_merged['Embarked'], prefix='Embarked')\n",
        "df_merged = pd.concat([df_merged, embarked_dummies], axis=1)\n",
        "df_merged.drop('Embarked', axis=1, inplace=True)\n",
        "\n",
        "display(df_merged.head())"
      ],
      "execution_count": 0,
      "outputs": [
        {
          "output_type": "display_data",
          "data": {
            "text/html": [
              "<div>\n",
              "<style scoped>\n",
              "    .dataframe tbody tr th:only-of-type {\n",
              "        vertical-align: middle;\n",
              "    }\n",
              "\n",
              "    .dataframe tbody tr th {\n",
              "        vertical-align: top;\n",
              "    }\n",
              "\n",
              "    .dataframe thead th {\n",
              "        text-align: right;\n",
              "    }\n",
              "</style>\n",
              "<table border=\"1\" class=\"dataframe\">\n",
              "  <thead>\n",
              "    <tr style=\"text-align: right;\">\n",
              "      <th></th>\n",
              "      <th>Pclass</th>\n",
              "      <th>Sex</th>\n",
              "      <th>Age</th>\n",
              "      <th>SibSp</th>\n",
              "      <th>Parch</th>\n",
              "      <th>Fare</th>\n",
              "      <th>Embarked_914</th>\n",
              "      <th>Embarked_C</th>\n",
              "      <th>Embarked_Q</th>\n",
              "      <th>Embarked_S</th>\n",
              "    </tr>\n",
              "  </thead>\n",
              "  <tbody>\n",
              "    <tr>\n",
              "      <th>0</th>\n",
              "      <td>3</td>\n",
              "      <td>0</td>\n",
              "      <td>22.0</td>\n",
              "      <td>1</td>\n",
              "      <td>0</td>\n",
              "      <td>7.2500</td>\n",
              "      <td>0</td>\n",
              "      <td>0</td>\n",
              "      <td>0</td>\n",
              "      <td>1</td>\n",
              "    </tr>\n",
              "    <tr>\n",
              "      <th>1</th>\n",
              "      <td>1</td>\n",
              "      <td>1</td>\n",
              "      <td>38.0</td>\n",
              "      <td>1</td>\n",
              "      <td>0</td>\n",
              "      <td>71.2833</td>\n",
              "      <td>0</td>\n",
              "      <td>1</td>\n",
              "      <td>0</td>\n",
              "      <td>0</td>\n",
              "    </tr>\n",
              "    <tr>\n",
              "      <th>2</th>\n",
              "      <td>3</td>\n",
              "      <td>1</td>\n",
              "      <td>26.0</td>\n",
              "      <td>0</td>\n",
              "      <td>0</td>\n",
              "      <td>7.9250</td>\n",
              "      <td>0</td>\n",
              "      <td>0</td>\n",
              "      <td>0</td>\n",
              "      <td>1</td>\n",
              "    </tr>\n",
              "    <tr>\n",
              "      <th>3</th>\n",
              "      <td>1</td>\n",
              "      <td>1</td>\n",
              "      <td>35.0</td>\n",
              "      <td>1</td>\n",
              "      <td>0</td>\n",
              "      <td>53.1000</td>\n",
              "      <td>0</td>\n",
              "      <td>0</td>\n",
              "      <td>0</td>\n",
              "      <td>1</td>\n",
              "    </tr>\n",
              "    <tr>\n",
              "      <th>4</th>\n",
              "      <td>3</td>\n",
              "      <td>0</td>\n",
              "      <td>35.0</td>\n",
              "      <td>0</td>\n",
              "      <td>0</td>\n",
              "      <td>8.0500</td>\n",
              "      <td>0</td>\n",
              "      <td>0</td>\n",
              "      <td>0</td>\n",
              "      <td>1</td>\n",
              "    </tr>\n",
              "  </tbody>\n",
              "</table>\n",
              "</div>"
            ],
            "text/plain": [
              "   Pclass  Sex   Age  SibSp  Parch     Fare  Embarked_914  Embarked_C  \\\n",
              "0       3    0  22.0      1      0   7.2500             0           0   \n",
              "1       1    1  38.0      1      0  71.2833             0           1   \n",
              "2       3    1  26.0      0      0   7.9250             0           0   \n",
              "3       1    1  35.0      1      0  53.1000             0           0   \n",
              "4       3    0  35.0      0      0   8.0500             0           0   \n",
              "\n",
              "   Embarked_Q  Embarked_S  \n",
              "0           0           1  \n",
              "1           0           0  \n",
              "2           0           1  \n",
              "3           0           1  \n",
              "4           0           1  "
            ]
          },
          "metadata": {
            "tags": []
          }
        }
      ]
    },
    {
      "cell_type": "markdown",
      "metadata": {
        "id": "2WAWLn8O1Hfn",
        "colab_type": "text"
      },
      "source": [
        "### Recovering train and test datasets\n",
        "\n",
        "After preparing the *dataset* for the model, it's time split it into ```train``` and ```test```, just like it was at the beginning .\n",
        "\n",
        "We would've had double the work to prepare both datasets for the model and had bigger chances of making mistakes had we not separated the datasets."
      ]
    },
    {
      "cell_type": "code",
      "metadata": {
        "id": "D3vcGb5C1Hfr",
        "colab_type": "code",
        "colab": {}
      },
      "source": [
        "# Recovering train and test datasets\n",
        "train = df_merged.iloc[:train_idx]\n",
        "test = df_merged.iloc[train_idx:]"
      ],
      "execution_count": 0,
      "outputs": []
    },
    {
      "cell_type": "markdown",
      "metadata": {
        "id": "CNHst1rZ1Hfw",
        "colab_type": "text"
      },
      "source": [
        "## 5 Building and evaluating the model"
      ]
    },
    {
      "cell_type": "markdown",
      "metadata": {
        "id": "wapDMGCx1Hfx",
        "colab_type": "text"
      },
      "source": [
        "For this project, we'll use two basic *Machine Learning* models:\n",
        "\n",
        "* Logistic Regression\n",
        "* Decision Tree"
      ]
    },
    {
      "cell_type": "code",
      "metadata": {
        "id": "4ub2ljR81Hfz",
        "colab_type": "code",
        "colab": {}
      },
      "source": [
        "# Importing the necessary libraries for the Machine Learning models\n",
        "from sklearn.linear_model import LogisticRegression\n",
        "from sklearn.tree import DecisionTreeClassifier"
      ],
      "execution_count": 0,
      "outputs": []
    },
    {
      "cell_type": "code",
      "metadata": {
        "id": "P2HqFUUm1Hf4",
        "colab_type": "code",
        "outputId": "8708f4fa-3e46-48cc-9b4e-78394947d371",
        "colab": {
          "base_uri": "https://localhost:8080/",
          "height": 35
        }
      },
      "source": [
        "# Creating the Logistic Regression Model\n",
        "lr_model = LogisticRegression(solver='liblinear')\n",
        "lr_model.fit(train, target)\n",
        "\n",
        "# Checking the accuracy of the model\n",
        "acc_logReg = round(lr_model.score(train, target) * 100, 2)\n",
        "print(\"Logistic Regression Model Accuracy: {}\".format(acc_logReg))"
      ],
      "execution_count": 0,
      "outputs": [
        {
          "output_type": "stream",
          "text": [
            "Logistic Regression Model Accuracy: 80.13\n"
          ],
          "name": "stdout"
        }
      ]
    },
    {
      "cell_type": "markdown",
      "metadata": {
        "id": "2YiVYLoG1Hf-",
        "colab_type": "text"
      },
      "source": [
        "With about two lines of code, we built a Logistic Regression model with an accuracy of over 80% on the training dataset.\n",
        "\n",
        "This is an excellent result for a first model. Now, let's make a preview about the test *dataset* so we can submit it to [Kaggle](http://www.kaggle.com) and compare the results."
      ]
    },
    {
      "cell_type": "code",
      "metadata": {
        "id": "JHMDIPro1Hf_",
        "colab_type": "code",
        "colab": {}
      },
      "source": [
        "y_pred_lr = lr_model.predict(test)\n",
        "\n",
        "submission = pd.DataFrame({\n",
        "    \"PassengerId\": passengerId,\n",
        "    \"Survived\": y_pred_lr\n",
        "})\n",
        "\n",
        "# Generating csv file\n",
        "from google.colab import files\n",
        "\n",
        "submission.to_csv('submission_lr.csv', index=False)\n",
        "files.download('submission_lr.csv')"
      ],
      "execution_count": 0,
      "outputs": []
    },
    {
      "cell_type": "markdown",
      "metadata": {
        "id": "COUisIHN1HgO",
        "colab_type": "text"
      },
      "source": [
        "As you can see, the model hit an accuracy score of 75%. \n",
        "\n",
        "<img src=\"https://github.com/rafaelnduarte/Titanic_Kaggle/blob/master/data_science-master/img/kaggle_lr.png?raw=true\" width=\"80%\">\n",
        "\n",
        "It's not unusual to have a slightly worse result when we submit previews since our dataset was trained on a training dataset with a better fit to it.\n",
        "\n",
        "Now, let's create a Decision Tree model following the same steps."
      ]
    },
    {
      "cell_type": "code",
      "metadata": {
        "id": "uq5VrZey1HgQ",
        "colab_type": "code",
        "outputId": "b634aa37-5cdd-4827-9de0-77fbdc004a34",
        "colab": {
          "base_uri": "https://localhost:8080/",
          "height": 35
        }
      },
      "source": [
        "# Creating a Decision Tree model\n",
        "tree_model = DecisionTreeClassifier(max_depth=3)\n",
        "tree_model.fit(train, target)\n",
        "\n",
        "# Checking the accuracy of the model\n",
        "acc_tree = round(tree_model.score(train, target) * 100, 2)\n",
        "print(\"Decision Tree Model Accuracy: {}\".format(acc_tree))"
      ],
      "execution_count": 0,
      "outputs": [
        {
          "output_type": "stream",
          "text": [
            "Decision Tree Model Accuracy: 82.72\n"
          ],
          "name": "stdout"
        }
      ]
    },
    {
      "cell_type": "markdown",
      "metadata": {
        "id": "wxPcVQnT1HgV",
        "colab_type": "text"
      },
      "source": [
        "With the Decision Tree model, the accuracy slightly improved, reaching 83%. Let's submit it to [Kaggle](http://www.kaggle.com)."
      ]
    },
    {
      "cell_type": "code",
      "metadata": {
        "id": "MGltTd961HgY",
        "colab_type": "code",
        "colab": {}
      },
      "source": [
        "y_pred_tree = tree_model.predict(test)\n",
        "\n",
        "submission = pd.DataFrame({\n",
        "    \"PassengerId\": passengerId,\n",
        "    \"Survived\": y_pred_tree\n",
        "})\n",
        "\n",
        "# generating csv file\n",
        "submission.to_csv('submission_tree.csv', index=False)\n",
        "files.download('submission_tree.csv')"
      ],
      "execution_count": 0,
      "outputs": []
    },
    {
      "cell_type": "markdown",
      "metadata": {
        "id": "_I6syfPP1Hgb",
        "colab_type": "text"
      },
      "source": [
        "As you can see, the model hit an accuracy score of 75%. \n",
        "\n",
        "<img src=\"https://github.com/rafaelnduarte/Titanic_Kaggle/blob/master/data_science-master/img/kaggle_tree.png?raw=true\" width=\"80%\">\n",
        "\n",
        "As predicted, we improved our results on the training dataset as well, getting a score of 78%\n",
        "\n",
        "### Would you have survived the Titanic disaster?\n",
        "\n",
        "Finally, with the models ready, it's time to find out if we would have survived the disaster.\n",
        "\n",
        "It's time to found out if I would have survived having boarded with a 3rd class ticket, being a man, at age 23, no siblings, spouse, parents or children aboard, paying the average fare and boarding at the most common port."
      ]
    },
    {
      "cell_type": "code",
      "metadata": {
        "id": "6qCybdBr1Hgc",
        "colab_type": "code",
        "outputId": "d01e9883-53c6-46d7-fd48-1d5e1a5257b2",
        "colab": {
          "base_uri": "https://localhost:8080/",
          "height": 35
        }
      },
      "source": [
        "# Declaring values for the passenger\n",
        "passenger = np.array([3, 0, 23, 0, 0, 32.2, 0, 0, 0, 1]).reshape((1, -1))\n",
        "\n",
        "# Checking if would have survived\n",
        "print(\"Rafael:\\t{}\".format(tree_model.predict(passenger)[0]))"
      ],
      "execution_count": 0,
      "outputs": [
        {
          "output_type": "stream",
          "text": [
            "Rafael:\t0\n"
          ],
          "name": "stdout"
        }
      ]
    },
    {
      "cell_type": "markdown",
      "metadata": {
        "id": "Cp8oNCLa1Hgg",
        "colab_type": "text"
      },
      "source": [
        "## Conclusion\n",
        "Unfortunately, according to this model, I wouldn't have survived the Titanic.\n",
        "\n",
        "According to the data we analyzed, I would have been in the worst possible condition, being a young man, with no siblings, spouse, parents or children aboard, with a 3rd class ticket.\n",
        "\n",
        "After a couple of tests, I also found out that even having a 1st class ticket wouldn't have saved me.\n",
        "\n",
        "***What about you? Would you have survived?***\n",
        "\n",
        "Feel free to use my model and figure it out for yourself!"
      ]
    },
    {
      "cell_type": "code",
      "metadata": {
        "id": "f7ZUpIAqA86K",
        "colab_type": "code",
        "outputId": "d75ccbde-04bf-42be-a467-4913d6459443",
        "colab": {
          "base_uri": "https://localhost:8080/",
          "height": 52
        }
      },
      "source": [
        "# Choose your class\n",
        "Class = 3\n",
        "\n",
        "# Sex = Man: 0 | Woman: 1\n",
        "Sex = 0 \n",
        "# Age\n",
        "Age = 23\n",
        "# Enter the number of Siblings or Spouses aboard\n",
        "SibSp = 0\n",
        "# Enter the number of Parents or Siblings aboard\n",
        "ParCh = 0\n",
        "# Fare paid (You don't need to change this one)\n",
        "Fare = 32 \n",
        "\n",
        "# Choose the port from which you would have embarked. \n",
        "# Change to '1' (True) the selected port. Leave the others as '0' (False)\n",
        "Cherbourg = 0\n",
        "\n",
        "Queenstown = 0 \n",
        "\n",
        "Southampton = 1 \n",
        "\n",
        "\n",
        "# Preparing the data for verification\n",
        "Fare = int(Fare)\n",
        "\n",
        "# Declaring values for the passenger\n",
        "passTest = np.array([Class, Sex, Age, SibSp, ParCh, Fare, Cherbourg, Queenstown, Southampton, 1]).reshape((1, -1))\n",
        "\n",
        "# Checking if would have survived\n",
        "print(\"Survived = 1 | Died = 0\")\n",
        "print(\"Result:\\t{}\".format(tree_model.predict(passTest)[0]))"
      ],
      "execution_count": 0,
      "outputs": [
        {
          "output_type": "stream",
          "text": [
            "Survived = 1 | Died = 0\n",
            "Result:\t0\n"
          ],
          "name": "stdout"
        }
      ]
    },
    {
      "cell_type": "markdown",
      "metadata": {
        "id": "y2iEztDaiYxx",
        "colab_type": "text"
      },
      "source": [
        "<center><img width = '80%'src= \"https://github.com/rafaelnduarte/Analysis_of_Violence_in_Rio_de_Janeiro/raw/master/img/rafaelnd_ds.png\"></center>"
      ]
    },
    {
      "cell_type": "code",
      "metadata": {
        "id": "3G1XI6woiZub",
        "colab_type": "code",
        "colab": {}
      },
      "source": [
        ""
      ],
      "execution_count": 0,
      "outputs": []
    }
  ]
}